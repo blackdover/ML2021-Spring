{
 "cells": [
  {
   "cell_type": "markdown",
   "metadata": {
    "id": "view-in-github"
   },
   "source": [
    "<a href=\"https://colab.research.google.com/github/YClemontree/ML2021-HW/blob/main/HW1.ipynb\" target=\"_parent\"><img src=\"https://colab.research.google.com/assets/colab-badge.svg\" alt=\"Open In Colab\"/></a>"
   ]
  },
  {
   "cell_type": "markdown",
   "metadata": {
    "id": "ZeZnPAiwDRWG"
   },
   "source": [
    "本notebook基于Heng-Jui Chang @ NTUEE提供的原始代码，感谢助教的辛勤工作。"
   ]
  },
  {
   "cell_type": "markdown",
   "metadata": {
    "id": "Jx3x1nDkG-Uy"
   },
   "source": [
    "# **Download Data**"
   ]
  },
  {
   "cell_type": "code",
   "execution_count": 42,
   "metadata": {
    "execution": {
     "iopub.execute_input": "2025-07-17T09:11:55.540919Z",
     "iopub.status.busy": "2025-07-17T09:11:55.540566Z",
     "iopub.status.idle": "2025-07-17T09:11:55.622142Z",
     "shell.execute_reply": "2025-07-17T09:11:55.621182Z",
     "shell.execute_reply.started": "2025-07-17T09:11:55.540838Z"
    },
    "trusted": true
   },
   "outputs": [],
   "source": [
    "tr_path = 'covid.train.csv'  # path to training data\n",
    "tt_path = 'covid.test.csv'   # path to testing data\n",
    "# This Python 3 environment comes with many helpful analytics libraries installed\n",
    "# It is defined by the kaggle/python Docker image: https://github.com/kaggle/docker-python\n",
    "# For example, here's several helpful packages to load\n",
    "\n",
    "import numpy as np # linear algebra\n",
    "import pandas as pd # data processing, CSV file I/O (e.g. pd.read_csv)\n",
    "\n",
    "# Input data files are available in the read-only \"../input/\" directory\n",
    "# For example, running this (by clicking run or pressing Shift+Enter) will list all files under the input directory\n",
    "\n",
    "import os\n",
    "# for dirname, _, filenames in os.walk('/kaggle/input'):\n",
    "#     for filename in filenames:\n",
    "#         print(os.path.join(dirname, filename))\n",
    "\n",
    "# You can write up to 20GB to the current directory (/kaggle/working/) that gets preserved as output when you create a version using \"Save & Run All\" \n",
    "# You can also write temporary files to /kaggle/temp/, but they won't be saved outside of the current session"
   ]
  },
  {
   "cell_type": "markdown",
   "metadata": {
    "id": "wS_4-77xHk44"
   },
   "source": [
    "# **Import Some Packages**"
   ]
  },
  {
   "cell_type": "code",
   "execution_count": 1,
   "metadata": {
    "execution": {
     "iopub.execute_input": "2025-07-17T09:11:55.623571Z",
     "iopub.status.busy": "2025-07-17T09:11:55.623348Z",
     "iopub.status.idle": "2025-07-17T09:11:58.157202Z",
     "shell.execute_reply": "2025-07-17T09:11:58.156362Z",
     "shell.execute_reply.started": "2025-07-17T09:11:55.623550Z"
    },
    "id": "k-onQd4JNA5H",
    "trusted": true
   },
   "outputs": [],
   "source": [
    "# PyTorch\n",
    "import torch\n",
    "import torch.nn as nn\n",
    "from torch.utils.data import Dataset, DataLoader\n",
    "\n",
    "# For data preprocess\n",
    "import numpy as np\n",
    "import csv\n",
    "import os\n",
    "\n",
    "# For plotting\n",
    "import matplotlib.pyplot as plt\n",
    "from matplotlib.pyplot import figure\n",
    "\n",
    "myseed = 2020815  # set a random seed for reproducibility\n",
    "torch.backends.cudnn.deterministic = True\n",
    "torch.backends.cudnn.benchmark = False\n",
    "np.random.seed(myseed)\n",
    "torch.manual_seed(myseed)\n",
    "if torch.cuda.is_available():\n",
    "    torch.cuda.manual_seed_all(myseed)"
   ]
  },
  {
   "cell_type": "markdown",
   "metadata": {
    "id": "BtE3b6JEH7rw"
   },
   "source": [
    "# **Some Utilities**"
   ]
  },
  {
   "cell_type": "code",
   "execution_count": 44,
   "metadata": {
    "execution": {
     "iopub.execute_input": "2025-07-17T09:11:58.158969Z",
     "iopub.status.busy": "2025-07-17T09:11:58.158741Z",
     "iopub.status.idle": "2025-07-17T09:11:58.168481Z",
     "shell.execute_reply": "2025-07-17T09:11:58.167775Z",
     "shell.execute_reply.started": "2025-07-17T09:11:58.158946Z"
    },
    "id": "FWMT3uf1NGQp",
    "trusted": true
   },
   "outputs": [],
   "source": [
    "def get_device():\n",
    "    ''' Get device (if GPU is available, use GPU) '''\n",
    "    return 'cuda' if torch.cuda.is_available() else 'cpu'\n",
    "\n",
    "def plot_learning_curve(loss_record, title=''):\n",
    "    ''' Plot learning curve of your DNN (train & dev loss) '''\n",
    "    total_steps = len(loss_record['train'])\n",
    "    x_1 = range(total_steps)\n",
    "    x_2 = x_1[::len(loss_record['train']) // len(loss_record['dev'])]\n",
    "    figure(figsize=(6, 4))\n",
    "    plt.plot(x_1, loss_record['train'], c='tab:red', label='train')\n",
    "    plt.plot(x_2, loss_record['dev'], c='tab:cyan', label='dev')\n",
    "    plt.ylim(0.0, 5.)\n",
    "    plt.xlabel('Training steps')\n",
    "    plt.ylabel('MSE loss')\n",
    "    plt.title('Learning curve of {}'.format(title))\n",
    "    plt.legend()\n",
    "    plt.show()\n",
    "\n",
    "\n",
    "def plot_pred(dv_set, model, device, lim=35., preds=None, targets=None):\n",
    "    ''' Plot prediction of your DNN '''\n",
    "    if preds is None or targets is None:\n",
    "        model.eval()\n",
    "        preds, targets = [], []\n",
    "        for x, y in dv_set:\n",
    "            x, y = x.to(device), y.to(device)\n",
    "            with torch.no_grad():\n",
    "                pred = model(x)\n",
    "                preds.append(pred.detach().cpu())\n",
    "                targets.append(y.detach().cpu())\n",
    "        preds = torch.cat(preds, dim=0).numpy()\n",
    "        targets = torch.cat(targets, dim=0).numpy()\n",
    "\n",
    "    figure(figsize=(5, 5))\n",
    "    plt.scatter(targets, preds, c='r', alpha=0.5)\n",
    "    plt.plot([-0.2, lim], [-0.2, lim], c='b')\n",
    "    plt.xlim(-0.2, lim)\n",
    "    plt.ylim(-0.2, lim)\n",
    "    plt.xlabel('ground truth value')\n",
    "    plt.ylabel('predicted value')\n",
    "    plt.title('Ground Truth v.s. Prediction')\n",
    "    plt.show()"
   ]
  },
  {
   "cell_type": "markdown",
   "metadata": {
    "id": "39U_XFX6KOoj"
   },
   "source": [
    "# **Preprocess**\n",
    "\n",
    "We have three kinds of datasets:\n",
    "* `train`: for training\n",
    "* `dev`: for validation\n",
    "* `test`: for testing (w/o target value)"
   ]
  },
  {
   "cell_type": "markdown",
   "metadata": {
    "id": "TQ-MdwpLL7Dt"
   },
   "source": [
    "## **Dataset**\n",
    "\n",
    "The `COVID19Dataset` below does:\n",
    "* read `.csv` files\n",
    "* extract features\n",
    "* split `covid.train.csv` into train/dev sets\n",
    "* normalize features\n",
    "\n",
    "Finishing `TODO` below might make you pass medium baseline."
   ]
  },
  {
   "cell_type": "markdown",
   "metadata": {},
   "source": [
    "### **特征选择**"
   ]
  },
  {
   "cell_type": "code",
   "execution_count": 45,
   "metadata": {
    "execution": {
     "iopub.execute_input": "2025-07-17T09:11:58.170153Z",
     "iopub.status.busy": "2025-07-17T09:11:58.169826Z",
     "iopub.status.idle": "2025-07-17T09:11:59.834507Z",
     "shell.execute_reply": "2025-07-17T09:11:59.832034Z",
     "shell.execute_reply.started": "2025-07-17T09:11:58.170122Z"
    },
    "trusted": true
   },
   "outputs": [
    {
     "name": "stdout",
     "output_type": "stream",
     "text": [
      "                 Specs          Score\n",
      "75   tested_positive.1  148069.658278\n",
      "57     tested_positive   69603.872591\n",
      "42        hh_cmnty_cli    9235.492094\n",
      "60      hh_cmnty_cli.1    9209.019558\n",
      "78      hh_cmnty_cli.2    9097.375172\n",
      "43      nohh_cmnty_cli    8395.421300\n",
      "61    nohh_cmnty_cli.1    8343.255927\n",
      "79    nohh_cmnty_cli.2    8208.176435\n",
      "40                 cli    6388.906849\n",
      "58               cli.1    6374.548000\n",
      "76               cli.2    6250.008702\n",
      "41                 ili    5998.922880\n",
      "59               ili.1    5937.588576\n",
      "77               ili.2    5796.947672\n",
      "92  worried_finances.2     833.613191\n",
      "74  worried_finances.1     811.916460\n",
      "56    worried_finances     788.076931\n",
      "87    public_transit.2     686.736539\n",
      "69    public_transit.1     681.562902\n",
      "51      public_transit     678.834789\n"
     ]
    }
   ],
   "source": [
    "import pandas as pd\n",
    "import numpy as np\n",
    "\n",
    "data = pd.read_csv('covid.train.csv')\n",
    "x = data[data.columns[1:94]]\n",
    "y = data[data.columns[94]]\n",
    "\n",
    "from sklearn.feature_selection import SelectKBest\n",
    "from sklearn.feature_selection import f_regression\n",
    "\n",
    "from sklearn import preprocessing\n",
    "x = (x - x.min()) / (x.max() - x.min())\n",
    "\n",
    "bestfeatures = SelectKBest(score_func=f_regression, k=5)\n",
    "fit = bestfeatures.fit(x,y)\n",
    "dfscores = pd.DataFrame(fit.scores_)\n",
    "dfcolumns = pd.DataFrame(x.columns)\n",
    "#concat two dataframes for better visualization \n",
    "featureScores = pd.concat([dfcolumns,dfscores],axis=1)\n",
    "featureScores.columns = ['Specs','Score']  #naming the dataframe columns\n",
    "print(featureScores.nlargest(20,'Score'))  #print 15 best features"
   ]
  },
  {
   "cell_type": "code",
   "execution_count": 46,
   "metadata": {
    "execution": {
     "iopub.execute_input": "2025-07-17T09:11:59.836610Z",
     "iopub.status.busy": "2025-07-17T09:11:59.836156Z",
     "iopub.status.idle": "2025-07-17T09:11:59.877521Z",
     "shell.execute_reply": "2025-07-17T09:11:59.874932Z",
     "shell.execute_reply.started": "2025-07-17T09:11:59.836562Z"
    },
    "id": "0zlpIp9ANJRU",
    "trusted": true
   },
   "outputs": [],
   "source": [
    "class COVID19Dataset(Dataset):\n",
    "    ''' Dataset for loading and preprocessing the COVID19 dataset '''\n",
    "    def __init__(self,\n",
    "                 path,\n",
    "                 mode='train',\n",
    "                 target_only=True):\n",
    "        self.mode = mode\n",
    "\n",
    "        # Read data into numpy arrays\n",
    "        with open(path, 'r') as fp:\n",
    "            data = list(csv.reader(fp))\n",
    "            data = np.array(data[1:])[:, 1:].astype(float)\n",
    "        \n",
    "        if not target_only:\n",
    "            feats = list(range(93))\n",
    "            # feats = list(range(1, 40)) + [57, 75]\n",
    "        else:\n",
    "            # TODO: Using 40 states & 2 tested_positive features (indices = 57 & 75)\n",
    "            # feats = list(range(1, 41)) + [57, 75]\n",
    "            feats = [75, 57, 42, 60, 78, 43, 61, 79, 40, 58, 76, 41, 59, 77] #上面挑选的最优特征\n",
    "        if mode == 'test':\n",
    "            # Testing data\n",
    "            # data: 893 x 93 (40 states + day 1 (18) + day 2 (18) + day 3 (17))\n",
    "            data = data[:, feats]\n",
    "            self.data = torch.FloatTensor(data)\n",
    "        else:\n",
    "            # Training data (train/dev sets)\n",
    "            # data: 2700 x 94 (40 states + day 1 (18) + day 2 (18) + day 3 (18))\n",
    "            target = data[:, -1]\n",
    "            data = data[:, feats]\n",
    "            \n",
    "            # Splitting training data into train & dev sets\n",
    "            # 在确定参数后，使用所有数据进行训练，即训练集=验证集\n",
    "            if mode == 'train':\n",
    "                #indices = [i for i in range(len(data)) if i % 10 != 0]\n",
    "                indices = [i for i in range(len(data))]\n",
    "            elif mode == 'dev':\n",
    "                #indices = [i for i in range(len(data)) if i % 10 == 0]\n",
    "                indices = [i for i in range(len(data))]\n",
    "            \n",
    "            # Convert data into PyTorch tensors\n",
    "            self.data = torch.FloatTensor(data[indices])\n",
    "            self.target = torch.FloatTensor(target[indices])\n",
    "\n",
    "        # Normalize features (you may remove this part to see what will happen)\n",
    "        self.data[:, 40:] = \\\n",
    "            (self.data[:, 40:] - self.data[:, 40:].mean(dim=0, keepdim=True)) \\\n",
    "            / self.data[:, 40:].std(dim=0, keepdim=True)\n",
    "\n",
    "        self.dim = self.data.shape[1]\n",
    "\n",
    "        print('Finished reading the {} set of COVID19 Dataset ({} samples found, each dim = {})'\n",
    "              .format(mode, len(self.data), self.dim))\n",
    "\n",
    "    def __getitem__(self, index):\n",
    "        # Returns one sample at a time\n",
    "        if self.mode in ['train', 'dev']:\n",
    "            # For training\n",
    "            return self.data[index], self.target[index]\n",
    "        else:\n",
    "            # For testing (no target)\n",
    "            return self.data[index]\n",
    "\n",
    "    def __len__(self):\n",
    "        # Returns the size of the dataset\n",
    "        return len(self.data)"
   ]
  },
  {
   "cell_type": "markdown",
   "metadata": {
    "id": "AlhTlkE7MDo3"
   },
   "source": [
    "## **DataLoader**\n",
    "\n",
    "A `DataLoader` loads data from a given `Dataset` into batches.\n"
   ]
  },
  {
   "cell_type": "code",
   "execution_count": 47,
   "metadata": {
    "execution": {
     "iopub.execute_input": "2025-07-17T09:11:59.881505Z",
     "iopub.status.busy": "2025-07-17T09:11:59.879646Z",
     "iopub.status.idle": "2025-07-17T09:11:59.892189Z",
     "shell.execute_reply": "2025-07-17T09:11:59.890426Z",
     "shell.execute_reply.started": "2025-07-17T09:11:59.881463Z"
    },
    "id": "hlhLk5t6MBX3",
    "trusted": true
   },
   "outputs": [],
   "source": [
    "def prep_dataloader(path, mode, batch_size, n_jobs=0, target_only=False):\n",
    "    ''' Generates a dataset, then is put into a dataloader. '''\n",
    "    dataset = COVID19Dataset(path, mode=mode, target_only=target_only)  # Construct dataset\n",
    "    dataloader = DataLoader(\n",
    "        dataset, batch_size,\n",
    "        shuffle=(mode == 'train'), drop_last=False,\n",
    "        num_workers=n_jobs, pin_memory=True)                            # Construct dataloader\n",
    "    return dataloader"
   ]
  },
  {
   "cell_type": "markdown",
   "metadata": {
    "id": "SGuycwR0MeQB"
   },
   "source": [
    "# **Deep Neural Network**\n",
    "\n",
    "`NeuralNet` is an `nn.Module` designed for regression.\n",
    "The DNN consists of 2 fully-connected layers with ReLU activation.\n",
    "This module also included a function `cal_loss` for calculating loss.\n"
   ]
  },
  {
   "cell_type": "code",
   "execution_count": 48,
   "metadata": {
    "execution": {
     "iopub.execute_input": "2025-07-17T09:11:59.895097Z",
     "iopub.status.busy": "2025-07-17T09:11:59.894778Z",
     "iopub.status.idle": "2025-07-17T09:11:59.921716Z",
     "shell.execute_reply": "2025-07-17T09:11:59.919360Z",
     "shell.execute_reply.started": "2025-07-17T09:11:59.895064Z"
    },
    "id": "49-uXYovOAI0",
    "trusted": true
   },
   "outputs": [],
   "source": [
    "class NeuralNet(nn.Module):\n",
    "    ''' A simple fully-connected deep neural network '''\n",
    "    def __init__(self, input_dim):\n",
    "        super(NeuralNet, self).__init__()\n",
    "\n",
    "        # Define your neural network here\n",
    "        # TODO: How to modify this model to achieve better performance?\n",
    "        self.net = nn.Sequential(\n",
    "            nn.Linear(input_dim,64),\n",
    "            nn.BatchNorm1d(64),#使用BN，加速模型训练\n",
    "            nn.Dropout(p=0.2),#使用Dropout，减小过拟合，注意不能在BN之前\n",
    "            nn.LeakyReLU(),#更换激活函数\n",
    "            nn.Linear(64, 1)\n",
    "        )\n",
    "\n",
    "        # Mean squared error loss\n",
    "        self.criterion = nn.MSELoss(reduction='mean')\n",
    "        #self.criterion = nn.SmoothL1Loss(size_average=True)\n",
    "\n",
    "    def forward(self, x):\n",
    "        ''' Given input of size (batch_size x input_dim), compute output of the network '''\n",
    "        return self.net(x).squeeze(1)\n",
    "\n",
    "    def cal_loss(self, pred, target):\n",
    "        ''' Calculate loss '''\n",
    "        regularization_loss = 0\n",
    "        for param in model.parameters():\n",
    "        # TODO: you may implement L1/L2 regularization here\n",
    "        # 使用L2正则项\n",
    "            # regularization_loss += torch.sum(abs(param))\n",
    "            regularization_loss += torch.sum(param ** 2)\n",
    "        return self.criterion(pred, target) + 0.0008 * regularization_loss"
   ]
  },
  {
   "cell_type": "markdown",
   "metadata": {
    "id": "DvFWVjZ5Nvga"
   },
   "source": [
    "# **Train/Dev/Test**"
   ]
  },
  {
   "cell_type": "markdown",
   "metadata": {
    "id": "MAM8QecJOyqn"
   },
   "source": [
    "## **Training**"
   ]
  },
  {
   "cell_type": "code",
   "execution_count": 49,
   "metadata": {
    "execution": {
     "iopub.execute_input": "2025-07-17T09:11:59.930040Z",
     "iopub.status.busy": "2025-07-17T09:11:59.928679Z",
     "iopub.status.idle": "2025-07-17T09:11:59.946185Z",
     "shell.execute_reply": "2025-07-17T09:11:59.945448Z",
     "shell.execute_reply.started": "2025-07-17T09:11:59.929980Z"
    },
    "id": "lOqcmYzMO7jB",
    "trusted": true
   },
   "outputs": [],
   "source": [
    "def train(tr_set, dv_set, model, config, device):\n",
    "    ''' DNN training '''\n",
    "\n",
    "    n_epochs = config['n_epochs']  # Maximum number of epochs\n",
    "\n",
    "    # Setup optimizer\n",
    "    optimizer = getattr(torch.optim, config['optimizer'])(\n",
    "        model.parameters(), **config['optim_hparas'])\n",
    "\n",
    "    min_mse = 1000.\n",
    "    loss_record = {'train': [], 'dev': []}      # for recording training loss\n",
    "    early_stop_cnt = 0\n",
    "    epoch = 0\n",
    "    while epoch < n_epochs:\n",
    "        model.train()                           # set model to training mode\n",
    "        for x, y in tr_set:                     # iterate through the dataloader\n",
    "            optimizer.zero_grad()               # set gradient to zero\n",
    "            x, y = x.to(device), y.to(device)   # move data to device (cpu/cuda)\n",
    "            pred = model(x)                     # forward pass (compute output)\n",
    "            mse_loss = model.cal_loss(pred, y)  # compute loss\n",
    "            mse_loss.backward()                 # compute gradient (backpropagation)\n",
    "            optimizer.step()                    # update model with optimizer\n",
    "            loss_record['train'].append(mse_loss.detach().cpu().item())\n",
    "\n",
    "        # After each epoch, test your model on the validation (development) set.\n",
    "        dev_mse = dev(dv_set, model, device)\n",
    "        if dev_mse < min_mse:\n",
    "            # Save model if your model improved\n",
    "            min_mse = dev_mse\n",
    "            print('Saving model (epoch = {:4d}, loss = {:.4f})'\n",
    "                .format(epoch + 1, min_mse))\n",
    "            torch.save(model.state_dict(), config['save_path'])  # Save model to specified path\n",
    "            early_stop_cnt = 0\n",
    "        else:\n",
    "            early_stop_cnt += 1\n",
    "\n",
    "        epoch += 1\n",
    "        loss_record['dev'].append(dev_mse)\n",
    "        if early_stop_cnt > config['early_stop']:\n",
    "            # Stop training if your model stops improving for \"config['early_stop']\" epochs.\n",
    "            break\n",
    "\n",
    "    print('Finished training after {} epochs'.format(epoch))\n",
    "    return min_mse, loss_record"
   ]
  },
  {
   "cell_type": "markdown",
   "metadata": {
    "id": "0hSd4Bn3O2PL"
   },
   "source": [
    "## **Validation**"
   ]
  },
  {
   "cell_type": "code",
   "execution_count": 50,
   "metadata": {
    "execution": {
     "iopub.execute_input": "2025-07-17T09:11:59.947848Z",
     "iopub.status.busy": "2025-07-17T09:11:59.947532Z",
     "iopub.status.idle": "2025-07-17T09:11:59.966029Z",
     "shell.execute_reply": "2025-07-17T09:11:59.965304Z",
     "shell.execute_reply.started": "2025-07-17T09:11:59.947817Z"
    },
    "id": "yrxrD3YsN3U2",
    "trusted": true
   },
   "outputs": [],
   "source": [
    "def dev(dv_set, model, device):\n",
    "    model.eval()                                # set model to evalutation mode\n",
    "    total_loss = 0\n",
    "    for x, y in dv_set:                         # iterate through the dataloader\n",
    "        x, y = x.to(device), y.to(device)       # move data to device (cpu/cuda)\n",
    "        with torch.no_grad():                   # disable gradient calculation\n",
    "            pred = model(x)                     # forward pass (compute output)\n",
    "            mse_loss = model.cal_loss(pred, y)  # compute loss\n",
    "        total_loss += mse_loss.detach().cpu().item() * len(x)  # accumulate loss\n",
    "    total_loss = total_loss / len(dv_set.dataset)              # compute averaged loss\n",
    "\n",
    "    return total_loss"
   ]
  },
  {
   "cell_type": "markdown",
   "metadata": {
    "id": "g0pdrhQAO41L"
   },
   "source": [
    "## **Testing**"
   ]
  },
  {
   "cell_type": "code",
   "execution_count": 51,
   "metadata": {
    "execution": {
     "iopub.execute_input": "2025-07-17T09:11:59.967213Z",
     "iopub.status.busy": "2025-07-17T09:11:59.966934Z",
     "iopub.status.idle": "2025-07-17T09:11:59.986956Z",
     "shell.execute_reply": "2025-07-17T09:11:59.986229Z",
     "shell.execute_reply.started": "2025-07-17T09:11:59.967189Z"
    },
    "id": "aSBMRFlYN5tB",
    "trusted": true
   },
   "outputs": [],
   "source": [
    "def test(tt_set, model, device):\n",
    "    model.eval()                                # set model to evalutation mode\n",
    "    preds = []\n",
    "    for x in tt_set:                            # iterate through the dataloader\n",
    "        x = x.to(device)                        # move data to device (cpu/cuda)\n",
    "        with torch.no_grad():                   # disable gradient calculation\n",
    "            pred = model(x)                     # forward pass (compute output)\n",
    "            preds.append(pred.detach().cpu())   # collect prediction\n",
    "    preds = torch.cat(preds, dim=0).numpy()     # concatenate all predictions and convert to a numpy array\n",
    "    return preds"
   ]
  },
  {
   "cell_type": "markdown",
   "metadata": {
    "id": "SvckkF5dvf0j"
   },
   "source": [
    "# **Setup Hyper-parameters**\n",
    "\n",
    "`config` contains hyper-parameters for training and the path to save your model."
   ]
  },
  {
   "cell_type": "code",
   "execution_count": 52,
   "metadata": {
    "execution": {
     "iopub.execute_input": "2025-07-17T09:11:59.988113Z",
     "iopub.status.busy": "2025-07-17T09:11:59.987872Z",
     "iopub.status.idle": "2025-07-17T09:11:59.998792Z",
     "shell.execute_reply": "2025-07-17T09:11:59.998168Z",
     "shell.execute_reply.started": "2025-07-17T09:11:59.988091Z"
    },
    "id": "NPXpdumwPjE7",
    "trusted": true
   },
   "outputs": [],
   "source": [
    "device = get_device()\n",
    "os.makedirs('models', exist_ok=True) \n",
    "target_only = True                   # 使用前面设置的特征\n",
    "\n",
    "# TODO: How to tune these hyper-parameters to improve your model's performance?\n",
    "config = {\n",
    "    'n_epochs': 10000,                # 因为有early_stop，所以大一点没有影响\n",
    "    'batch_size': 200,               # 微调batchsize\n",
    "    'optimizer': 'Adam',              # 使用Adam优化器\n",
    "    'optim_hparas': {                # 完全使用默认参数\n",
    "        #'lr': 0.0001,                 \n",
    "        #'momentum': 0.9,             \n",
    "        #'weight_decay': 5e-4,\n",
    "    },\n",
    "    'early_stop': 500,               # 由于最后训练使用了所有数据，大一点影响不大\n",
    "    'save_path': 'models/model.pth'  \n",
    "}"
   ]
  },
  {
   "cell_type": "markdown",
   "metadata": {
    "id": "6j1eOV3TOH-j"
   },
   "source": [
    "# **Load data and model**"
   ]
  },
  {
   "cell_type": "code",
   "execution_count": 53,
   "metadata": {
    "execution": {
     "iopub.execute_input": "2025-07-17T09:12:00.000166Z",
     "iopub.status.busy": "2025-07-17T09:11:59.999804Z",
     "iopub.status.idle": "2025-07-17T09:12:00.485181Z",
     "shell.execute_reply": "2025-07-17T09:12:00.484377Z",
     "shell.execute_reply.started": "2025-07-17T09:12:00.000132Z"
    },
    "id": "eNrYBMmePLKm",
    "outputId": "852ad174-52db-464c-a0dc-61d60a002919",
    "trusted": true
   },
   "outputs": [
    {
     "name": "stdout",
     "output_type": "stream",
     "text": [
      "Finished reading the train set of COVID19 Dataset (2700 samples found, each dim = 14)\n",
      "Finished reading the dev set of COVID19 Dataset (2700 samples found, each dim = 14)\n",
      "Finished reading the test set of COVID19 Dataset (893 samples found, each dim = 14)\n"
     ]
    },
    {
     "name": "stderr",
     "output_type": "stream",
     "text": [
      "C:\\Users\\ASUS\\AppData\\Local\\Temp\\ipykernel_52980\\3444788996.py:48: UserWarning: std(): degrees of freedom is <= 0. Correction should be strictly less than the reduction factor (input numel divided by output numel). (Triggered internally at C:\\actions-runner\\_work\\pytorch\\pytorch\\pytorch\\aten\\src\\ATen\\native\\ReduceOps.cpp:1839.)\n",
      "  / self.data[:, 40:].std(dim=0, keepdim=True)\n"
     ]
    }
   ],
   "source": [
    "tr_set = prep_dataloader(tr_path, 'train', config['batch_size'], target_only=target_only)\n",
    "dv_set = prep_dataloader(tr_path, 'dev', config['batch_size'], target_only=target_only)\n",
    "tt_set = prep_dataloader(tt_path, 'test', config['batch_size'], target_only=target_only)"
   ]
  },
  {
   "cell_type": "code",
   "execution_count": 54,
   "metadata": {
    "execution": {
     "iopub.execute_input": "2025-07-17T09:12:00.486471Z",
     "iopub.status.busy": "2025-07-17T09:12:00.486222Z",
     "iopub.status.idle": "2025-07-17T09:12:07.919540Z",
     "shell.execute_reply": "2025-07-17T09:12:07.918848Z",
     "shell.execute_reply.started": "2025-07-17T09:12:00.486446Z"
    },
    "id": "FHylSirLP9oh",
    "trusted": true
   },
   "outputs": [],
   "source": [
    "model = NeuralNet(tr_set.dataset.dim).to(device)  # Construct model and move to device"
   ]
  },
  {
   "cell_type": "markdown",
   "metadata": {
    "id": "sX2B_zgSOPTJ"
   },
   "source": [
    "# **Start Training!**"
   ]
  },
  {
   "cell_type": "code",
   "execution_count": 55,
   "metadata": {
    "execution": {
     "iopub.execute_input": "2025-07-17T09:12:07.920683Z",
     "iopub.status.busy": "2025-07-17T09:12:07.920478Z",
     "iopub.status.idle": "2025-07-17T09:14:04.512363Z",
     "shell.execute_reply": "2025-07-17T09:14:04.511430Z",
     "shell.execute_reply.started": "2025-07-17T09:12:07.920662Z"
    },
    "id": "GrEbUxazQAAZ",
    "outputId": "77a00891-cd34-495c-9ee5-43970c2b8cbc",
    "trusted": true
   },
   "outputs": [
    {
     "name": "stdout",
     "output_type": "stream",
     "text": [
      "Saving model (epoch =    1, loss = 294.0989)\n",
      "Saving model (epoch =    2, loss = 260.1151)\n",
      "Saving model (epoch =    3, loss = 225.4025)\n",
      "Saving model (epoch =    4, loss = 199.8273)\n",
      "Saving model (epoch =    5, loss = 189.8482)\n",
      "Saving model (epoch =    8, loss = 176.9311)\n",
      "Saving model (epoch =    9, loss = 147.9706)\n",
      "Saving model (epoch =   10, loss = 109.5521)\n",
      "Saving model (epoch =   11, loss = 81.1019)\n",
      "Saving model (epoch =   12, loss = 78.2412)\n",
      "Saving model (epoch =   17, loss = 67.4956)\n",
      "Saving model (epoch =   19, loss = 42.1549)\n",
      "Saving model (epoch =   22, loss = 20.6497)\n",
      "Saving model (epoch =   29, loss = 13.2735)\n",
      "Saving model (epoch =   33, loss = 12.0080)\n",
      "Saving model (epoch =   38, loss = 11.3763)\n",
      "Saving model (epoch =   39, loss = 10.5582)\n",
      "Saving model (epoch =   41, loss = 10.4790)\n",
      "Saving model (epoch =   44, loss = 10.2636)\n",
      "Saving model (epoch =   46, loss = 9.6938)\n",
      "Saving model (epoch =   52, loss = 9.4957)\n",
      "Saving model (epoch =   53, loss = 9.2867)\n",
      "Saving model (epoch =   55, loss = 9.2276)\n",
      "Saving model (epoch =   56, loss = 9.2154)\n",
      "Saving model (epoch =   59, loss = 8.9115)\n",
      "Saving model (epoch =   60, loss = 8.4218)\n",
      "Saving model (epoch =   62, loss = 7.8798)\n",
      "Saving model (epoch =   67, loss = 7.4615)\n",
      "Saving model (epoch =   71, loss = 7.0186)\n",
      "Saving model (epoch =   75, loss = 6.4726)\n",
      "Saving model (epoch =   82, loss = 6.2856)\n",
      "Saving model (epoch =   85, loss = 5.8523)\n",
      "Saving model (epoch =   88, loss = 5.8444)\n",
      "Saving model (epoch =   93, loss = 5.4606)\n",
      "Saving model (epoch =   98, loss = 4.8295)\n",
      "Saving model (epoch =  100, loss = 4.7597)\n",
      "Saving model (epoch =  104, loss = 4.4296)\n",
      "Saving model (epoch =  109, loss = 4.2806)\n",
      "Saving model (epoch =  110, loss = 4.1611)\n",
      "Saving model (epoch =  113, loss = 4.0073)\n",
      "Saving model (epoch =  114, loss = 3.8725)\n",
      "Saving model (epoch =  116, loss = 3.6821)\n",
      "Saving model (epoch =  121, loss = 3.5123)\n",
      "Saving model (epoch =  127, loss = 3.4277)\n",
      "Saving model (epoch =  128, loss = 3.1443)\n",
      "Saving model (epoch =  135, loss = 2.8746)\n",
      "Saving model (epoch =  136, loss = 2.8176)\n",
      "Saving model (epoch =  138, loss = 2.7191)\n",
      "Saving model (epoch =  139, loss = 2.7131)\n",
      "Saving model (epoch =  150, loss = 2.4342)\n",
      "Saving model (epoch =  154, loss = 2.4059)\n",
      "Saving model (epoch =  163, loss = 2.1595)\n",
      "Saving model (epoch =  165, loss = 2.0695)\n",
      "Saving model (epoch =  171, loss = 1.9408)\n",
      "Saving model (epoch =  174, loss = 1.8656)\n",
      "Saving model (epoch =  176, loss = 1.7662)\n",
      "Saving model (epoch =  184, loss = 1.7043)\n",
      "Saving model (epoch =  188, loss = 1.6748)\n",
      "Saving model (epoch =  191, loss = 1.6453)\n",
      "Saving model (epoch =  195, loss = 1.5493)\n",
      "Saving model (epoch =  204, loss = 1.4612)\n",
      "Saving model (epoch =  205, loss = 1.4351)\n",
      "Saving model (epoch =  214, loss = 1.4127)\n",
      "Saving model (epoch =  218, loss = 1.3587)\n",
      "Saving model (epoch =  219, loss = 1.3501)\n",
      "Saving model (epoch =  229, loss = 1.2812)\n",
      "Saving model (epoch =  244, loss = 1.2282)\n",
      "Saving model (epoch =  249, loss = 1.2192)\n",
      "Saving model (epoch =  250, loss = 1.2147)\n",
      "Saving model (epoch =  257, loss = 1.2000)\n",
      "Saving model (epoch =  262, loss = 1.1689)\n",
      "Saving model (epoch =  264, loss = 1.1508)\n",
      "Saving model (epoch =  268, loss = 1.1419)\n",
      "Saving model (epoch =  272, loss = 1.1374)\n",
      "Saving model (epoch =  285, loss = 1.1252)\n",
      "Saving model (epoch =  289, loss = 1.1049)\n",
      "Saving model (epoch =  294, loss = 1.0953)\n",
      "Saving model (epoch =  301, loss = 1.0875)\n",
      "Saving model (epoch =  311, loss = 1.0723)\n",
      "Saving model (epoch =  314, loss = 1.0614)\n",
      "Saving model (epoch =  328, loss = 1.0611)\n",
      "Saving model (epoch =  343, loss = 1.0490)\n",
      "Saving model (epoch =  355, loss = 1.0441)\n",
      "Saving model (epoch =  380, loss = 1.0357)\n",
      "Saving model (epoch =  381, loss = 1.0276)\n",
      "Saving model (epoch =  385, loss = 1.0241)\n",
      "Saving model (epoch =  398, loss = 1.0197)\n",
      "Saving model (epoch =  434, loss = 1.0185)\n",
      "Saving model (epoch =  435, loss = 1.0170)\n",
      "Saving model (epoch =  441, loss = 1.0157)\n",
      "Saving model (epoch =  457, loss = 1.0157)\n",
      "Saving model (epoch =  487, loss = 1.0090)\n",
      "Saving model (epoch =  543, loss = 1.0055)\n",
      "Saving model (epoch =  585, loss = 1.0032)\n",
      "Saving model (epoch =  647, loss = 0.9991)\n",
      "Saving model (epoch =  688, loss = 0.9990)\n",
      "Saving model (epoch =  732, loss = 0.9960)\n",
      "Saving model (epoch =  846, loss = 0.9959)\n",
      "Saving model (epoch =  905, loss = 0.9954)\n",
      "Saving model (epoch =  915, loss = 0.9950)\n",
      "Saving model (epoch =  924, loss = 0.9921)\n",
      "Saving model (epoch = 1192, loss = 0.9893)\n",
      "Saving model (epoch = 1313, loss = 0.9880)\n",
      "Saving model (epoch = 1549, loss = 0.9847)\n",
      "Saving model (epoch = 1852, loss = 0.9841)\n",
      "Saving model (epoch = 2308, loss = 0.9838)\n",
      "Saving model (epoch = 2320, loss = 0.9834)\n",
      "Finished training after 2821 epochs\n"
     ]
    }
   ],
   "source": [
    "model_loss, model_loss_record = train(tr_set, dv_set, model, config, device)"
   ]
  },
  {
   "cell_type": "code",
   "execution_count": 56,
   "metadata": {
    "execution": {
     "iopub.execute_input": "2025-07-17T09:14:04.514064Z",
     "iopub.status.busy": "2025-07-17T09:14:04.513692Z",
     "iopub.status.idle": "2025-07-17T09:14:04.772561Z",
     "shell.execute_reply": "2025-07-17T09:14:04.771768Z",
     "shell.execute_reply.started": "2025-07-17T09:14:04.514023Z"
    },
    "id": "hsNO9nnXQBvP",
    "outputId": "47f1d5e5-2eac-4734-e3e8-bbe02a7b7624",
    "trusted": true
   },
   "outputs": [
    {
     "data": {
      "image/png": "[encoded data removed]",
      "text/plain": [
       "<Figure size 600x400 with 1 Axes>"
      ]
     },
     "metadata": {},
     "output_type": "display_data"
    }
   ],
   "source": [
    "plot_learning_curve(model_loss_record, title='deep model')"
   ]
  },
  {
   "cell_type": "code",
   "execution_count": 57,
   "metadata": {
    "execution": {
     "iopub.execute_input": "2025-07-17T09:14:04.773769Z",
     "iopub.status.busy": "2025-07-17T09:14:04.773538Z",
     "iopub.status.idle": "2025-07-17T09:14:04.971155Z",
     "shell.execute_reply": "2025-07-17T09:14:04.970208Z",
     "shell.execute_reply.started": "2025-07-17T09:14:04.773744Z"
    },
    "id": "3iZTVn5WQFpX",
    "outputId": "b5112e3c-67ae-4342-f7ab-b131f267c183",
    "trusted": true
   },
   "outputs": [
    {
     "data": {
      "image/png": "[encoded data removed]",
      "text/plain": [
       "<Figure size 500x500 with 1 Axes>"
      ]
     },
     "metadata": {},
     "output_type": "display_data"
    }
   ],
   "source": [
    "del model\n",
    "model = NeuralNet(tr_set.dataset.dim).to(device)\n",
    "ckpt = torch.load(config['save_path'], map_location='cpu')  # Load your best model\n",
    "model.load_state_dict(ckpt)\n",
    "plot_pred(dv_set, model, device)  # Show prediction on the validation set"
   ]
  },
  {
   "cell_type": "markdown",
   "metadata": {
    "id": "aQikz3IPiyPf"
   },
   "source": [
    "# **Testing**\n",
    "The predictions of your model on testing set will be stored at `pred.csv`."
   ]
  },
  {
   "cell_type": "code",
   "execution_count": 58,
   "metadata": {
    "execution": {
     "iopub.execute_input": "2025-07-17T09:14:04.972908Z",
     "iopub.status.busy": "2025-07-17T09:14:04.972548Z",
     "iopub.status.idle": "2025-07-17T09:14:04.986603Z",
     "shell.execute_reply": "2025-07-17T09:14:04.985682Z",
     "shell.execute_reply.started": "2025-07-17T09:14:04.972871Z"
    },
    "id": "O8cTuQjQQOon",
    "outputId": "d1c9bfe0-e85c-4aa6-cf64-1cc04ad3a449",
    "trusted": true
   },
   "outputs": [
    {
     "name": "stdout",
     "output_type": "stream",
     "text": [
      "Saving results to submit.csv\n"
     ]
    }
   ],
   "source": [
    "def save_pred(preds, file):\n",
    "    ''' Save predictions to specified file '''\n",
    "    print('Saving results to {}'.format(file))\n",
    "    with open(file, 'w') as fp:\n",
    "        writer = csv.writer(fp)\n",
    "        writer.writerow(['id', 'tested_positive'])\n",
    "        for i, p in enumerate(preds):\n",
    "            writer.writerow([i, p])\n",
    "\n",
    "preds = test(tt_set, model, device)  # predict COVID-19 cases with your model\n",
    "save_pred(preds, 'submit.csv')         # save prediction file to pred.csv"
   ]
  },
  {
   "cell_type": "markdown",
   "metadata": {
    "id": "9tmCwXgpot3t"
   },
   "source": [
    "# **Reference**\n",
    "This code is completely written by Heng-Jui Chang @ NTUEE.  \n",
    "Copying or reusing this code is required to specify the original author. \n",
    "\n",
    "E.g.  \n",
    "Source: Heng-Jui Chang @ NTUEE (https://github.com/ga642381/ML2021-Spring/blob/main/HW01/HW01.ipynb)\n"
   ]
  }
 ],
 "metadata": {
  "kaggle": {
   "accelerator": "nvidiaTeslaT4",
   "dataSources": [
    {
     "databundleVersionId": 2034736,
     "sourceId": 25737,
     "sourceType": "competition"
    }
   ],
   "dockerImageVersionId": 30120,
   "isGpuEnabled": true,
   "isInternetEnabled": true,
   "language": "python",
   "sourceType": "notebook"
  },
  "kernelspec": {
   "display_name": "learntorch",
   "language": "python",
   "name": "python3"
  },
  "language_info": {
   "codemirror_mode": {
    "name": "ipython",
    "version": 3
   },
   "file_extension": ".py",
   "mimetype": "text/x-python",
   "name": "python",
   "nbconvert_exporter": "python",
   "pygments_lexer": "ipython3",
   "version": "3.9.23"
  }
 },
 "nbformat": 4,
 "nbformat_minor": 4
}
